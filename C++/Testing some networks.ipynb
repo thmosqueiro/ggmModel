{
 "cells": [
  {
   "cell_type": "markdown",
   "metadata": {},
   "source": [
    "# ggmModel tests\n",
    "\n",
    "Below you'll find numerical tests to verify our algorithm."
   ]
  },
  {
   "cell_type": "code",
   "execution_count": 1,
   "metadata": {
    "collapsed": false
   },
   "outputs": [],
   "source": [
    "%matplotlib inline\n",
    "import pylab as pl\n",
    "import numpy as np\n",
    "import commands\n",
    "import scipy.stats"
   ]
  },
  {
   "cell_type": "markdown",
   "metadata": {},
   "source": [
    "## ER branch"
   ]
  },
  {
   "cell_type": "code",
   "execution_count": 2,
   "metadata": {
    "collapsed": false
   },
   "outputs": [
    {
     "name": "stdout",
     "output_type": "stream",
     "text": [
      "Make output: \n",
      "rm -f *~\n",
      "g++ -Wall -O2 -std=c++11 ggmModel.cpp -o ggmModel\n",
      "ggmModel.cpp: In function ‘int main(int, char**)’:\n",
      "ggmModel.cpp:29:19: warning: variable ‘HashNds’ set but not used [-Wunused-but-set-variable]\n",
      "   double *CumDg, *HashNds;\n",
      "                   ^ \n",
      "\n",
      "\n",
      "Running: \n",
      "time ./ggmModel $RANDOM 10000 20.0 1.0 output.dat\n",
      "\n",
      "ggmModel output: \n",
      "----\n",
      "\n",
      "real\t0m0.559s\n",
      "user\t0m0.151s\n",
      "sys\t0m0.407s \n",
      "---\n",
      "\n"
     ]
    }
   ],
   "source": [
    "status, output = commands.getstatusoutput(\"make\")\n",
    "\n",
    "print 'Make output: \\n', output, '\\n\\n'\n",
    "\n",
    "N = 10000\n",
    "K = 20.\n",
    "output_fname = \"output.dat\"\n",
    "\n",
    "command = \"time ./ggmModel $RANDOM \" + str(N) + \" \" + str(K) + \" 1.0 \" + output_fname\n",
    "print \"Running: \\n\", command + \"\\n\"\n",
    "status, output = commands.getstatusoutput(command)\n",
    "\n",
    "print 'ggmModel output: \\n----\\n', output, '\\n---\\n'"
   ]
  },
  {
   "cell_type": "code",
   "execution_count": 3,
   "metadata": {
    "collapsed": false
   },
   "outputs": [
    {
     "name": "stdout",
     "output_type": "stream",
     "text": [
      "Data shape:  (399820, 2)\n"
     ]
    }
   ],
   "source": [
    "Conns = np.loadtxt(output_fname)\n",
    "print 'Data shape: ', Conns.shape"
   ]
  },
  {
   "cell_type": "code",
   "execution_count": 4,
   "metadata": {
    "collapsed": false
   },
   "outputs": [],
   "source": [
    "Degrees = np.zeros( (N), dtype=int)\n",
    "C = Conns[:,0]\n",
    "for j in range(N):\n",
    "    Degrees[j] = np.where(C == j)[0].shape[0]"
   ]
  },
  {
   "cell_type": "code",
   "execution_count": 5,
   "metadata": {
    "collapsed": false
   },
   "outputs": [
    {
     "name": "stdout",
     "output_type": "stream",
     "text": [
      "Mean degree: \t\t39.982\n",
      "Standard deviation: \t4.48295393686\n"
     ]
    }
   ],
   "source": [
    "print 'Mean degree: \\t\\t', Degrees.mean()\n",
    "print 'Standard deviation: \\t', Degrees.std()"
   ]
  },
  {
   "cell_type": "code",
   "execution_count": 6,
   "metadata": {
    "collapsed": false
   },
   "outputs": [
    {
     "data": {
      "image/png": "[encoded data removed]",
      "text/plain": [
       "<matplotlib.figure.Figure at 0x7f79c43a9110>"
      ]
     },
     "metadata": {},
     "output_type": "display_data"
    }
   ],
   "source": [
    "pl.hist(Degrees, 10)\n",
    "pl.show()"
   ]
  },
  {
   "cell_type": "markdown",
   "metadata": {},
   "source": [
    " "
   ]
  }
 ],
 "metadata": {
  "kernelspec": {
   "display_name": "Python 2",
   "language": "python",
   "name": "python2"
  },
  "language_info": {
   "codemirror_mode": {
    "name": "ipython",
    "version": 2
   },
   "file_extension": ".py",
   "mimetype": "text/x-python",
   "name": "python",
   "nbconvert_exporter": "python",
   "pygments_lexer": "ipython2",
   "version": "2.7.8"
  }
 },
 "nbformat": 4,
 "nbformat_minor": 0
}
