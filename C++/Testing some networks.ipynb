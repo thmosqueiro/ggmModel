{
 "metadata": {
  "kernelspec": {
   "display_name": "Python 2",
   "language": "python",
   "name": "python2"
  },
  "language_info": {
   "codemirror_mode": {
    "name": "ipython",
    "version": 2
   },
   "file_extension": ".py",
   "mimetype": "text/x-python",
   "name": "python",
   "nbconvert_exporter": "python",
   "pygments_lexer": "ipython2",
   "version": "2.7.8"
  },
  "name": "",
  "signature": "sha256:294860bf1bc8c3f4b4a9375fd35f4f7d8ec14f1e7bde30d83226e479ff8c88bd"
 },
 "nbformat": 3,
 "nbformat_minor": 0,
 "worksheets": [
  {
   "cells": [
    {
     "cell_type": "markdown",
     "metadata": {},
     "source": [
      "#ggmModel tests\n",
      "\n",
      "Below you'll find numerical tests to verify our algorithm."
     ]
    },
    {
     "cell_type": "code",
     "collapsed": false,
     "input": [
      "%matplotlib inline\n",
      "import pylab as pl\n",
      "import numpy as np\n",
      "import commands\n",
      "import scipy.stats"
     ],
     "language": "python",
     "metadata": {},
     "outputs": [],
     "prompt_number": 19
    },
    {
     "cell_type": "heading",
     "level": 2,
     "metadata": {},
     "source": [
      "ER branch"
     ]
    },
    {
     "cell_type": "code",
     "collapsed": false,
     "input": [
      "status, output = commands.getstatusoutput(\"make\")\n",
      "\n",
      "print 'Make output: \\n', output, '\\n\\n'\n",
      "\n",
      "N = 10000\n",
      "K = 10.\n",
      "output_fname = \"output.dat\"\n",
      "\n",
      "command = \"time ./teste \" + str(N) + \" \" + str(K) + \" \" + output_fname\n",
      "status, output = commands.getstatusoutput(command)\n",
      "\n",
      "print 'ggmModel output: \\n----\\n', output, '\\n---\\n'"
     ],
     "language": "python",
     "metadata": {},
     "outputs": [
      {
       "output_type": "stream",
       "stream": "stdout",
       "text": [
        "Make output: \n",
        "rm -f *~\n",
        "g++ -Wall -O2 -std=c++11 ggmModel.cpp -o teste \n",
        "\n",
        "\n",
        "ggmModel output: \n",
        "----\n"
       ]
      },
      {
       "output_type": "stream",
       "stream": "stdout",
       "text": [
        "\n",
        "real\t0m0.235s\n",
        "user\t0m0.063s\n",
        "sys\t0m0.172s \n",
        "---\n",
        "\n"
       ]
      }
     ],
     "prompt_number": 25
    },
    {
     "cell_type": "code",
     "collapsed": false,
     "input": [
      "Conns = np.loadtxt(output_fname)\n",
      "print 'Data shape: ', Conns.shape"
     ],
     "language": "python",
     "metadata": {},
     "outputs": [
      {
       "output_type": "stream",
       "stream": "stdout",
       "text": [
        "Data shape:  (99990, 2)\n"
       ]
      }
     ],
     "prompt_number": 26
    },
    {
     "cell_type": "code",
     "collapsed": false,
     "input": [
      "Degrees = np.zeros( (N), dtype=int)\n",
      "C = Conns[:,0]\n",
      "for j in range(N):\n",
      "    Degrees[j] = np.where(C == j)[0].shape[0]"
     ],
     "language": "python",
     "metadata": {},
     "outputs": [],
     "prompt_number": 27
    },
    {
     "cell_type": "code",
     "collapsed": false,
     "input": [
      "pl.hist(Degrees, 10)\n",
      "pl.show()"
     ],
     "language": "python",
     "metadata": {},
     "outputs": [
      {
       "metadata": {},
       "output_type": "display_data",
       "png": "[encoded data removed]",
       "text": [
        "<matplotlib.figure.Figure at 0xacc4c1cc>"
       ]
      }
     ],
     "prompt_number": 31
    },
    {
     "cell_type": "markdown",
     "metadata": {},
     "source": [
      " "
     ]
    }
   ],
   "metadata": {}
  }
 ]
}